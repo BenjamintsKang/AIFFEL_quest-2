{
  "nbformat": 4,
  "nbformat_minor": 0,
  "metadata": {
    "colab": {
      "provenance": [],
      "authorship_tag": "ABX9TyMbMqAhxF+jjFSfW+lDQfqU",
      "include_colab_link": true
    },
    "kernelspec": {
      "name": "python3",
      "display_name": "Python 3"
    },
    "language_info": {
      "name": "python"
    }
  },
  "cells": [
    {
      "cell_type": "markdown",
      "metadata": {
        "id": "view-in-github",
        "colab_type": "text"
      },
      "source": [
        "<a href=\"https://colab.research.google.com/github/eueu29/AIFFEL_quest/blob/main/Python_quest/Quest02/Quest_02.ipynb\" target=\"_parent\"><img src=\"https://colab.research.google.com/assets/colab-badge.svg\" alt=\"Open In Colab\"/></a>"
      ]
    },
    {
      "cell_type": "code",
      "execution_count": 63,
      "metadata": {
        "id": "sSnq5fwCxiF3",
        "colab": {
          "base_uri": "https://localhost:8080/"
        },
        "outputId": "2cebd1f1-d288-45e8-c1a4-168ea952391b"
      },
      "outputs": [
        {
          "output_type": "stream",
          "name": "stdout",
          "text": [
            "bigram 딕셔너리의 value값을 내림차순 한 결과(top 10)는 다음과 같습니다 : [('its', 68), ('im', 52), ('dont', 43), ('youre', 35), ('thetesseract', 34), ('hes', 32), ('didnt', 26), ('thats', 25), ('onthe', 25), ('were', 25)]\n",
            "가장 많이 나온 bigram은: its 입니다.\n"
          ]
        }
      ],
      "source": [
        "import re\n",
        "\n",
        "# 파일 'read'로 불러오기\n",
        "f = open(\"/content/drive/MyDrive/Colab Notebooks/Avengers.txt\", \"r\")\n",
        "readtext = f.read()\n",
        "\n",
        "# 텍스트 소문자처리하기\n",
        "# 특수기호를 replace를 사용하여 빈칸으로 변환해주기\n",
        "lowertext = readtext.lower()\n",
        "replacetext = lowertext.replace('.', ' ').replace(',', ' ').replace('?', ' ').replace(\"'\", ' ').replace('-', '').replace('!', ' ').replace('/', ' ')\\\n",
        ".replace('^', ' ').replace('%', ' ').replace('\\n', ' ').replace('ww', ' ').replace('(', ' ').replace(')', ' ')\n",
        "\n",
        "# 띄어쓰기를 기준으로 split하도록 하기\n",
        "# replacetext.split()을 사용하니 띄어쓰기 1개 기준으로 분할이 됨\n",
        "# re 모듈을 import해서 re.split을 사용해주고\n",
        "# r'\\s+' = 하나 이상의 연속되는 공백 문자를 한개의 구분자로 취급해줌\n",
        "splittext = re.split(r'\\s+',replacetext)\n",
        "\n",
        "# 2-gram 만들어서 빈 list에 추가하기\n",
        "bigram_list = []\n",
        "for i in range(len(splittext) -1):\n",
        "  bigram_list.append(splittext[i]+splittext[i+1])\n",
        "# print(bigram_list)\n",
        "\n",
        "# for문을 통하여 2-gram list에서 반복되는 횟수를 value로 하는 딕셔너리 만들기\n",
        "bigram_dict = {}\n",
        "for bigram in bigram_list:\n",
        "  if bigram not in bigram_dict.keys():\n",
        "    bigram_dict[bigram] = 1\n",
        "  elif bigram in bigram_dict.keys():\n",
        "    bigram_dict[bigram] += 1\n",
        "# print(bigram_dict)\n",
        "\n",
        "################## 내림차순 배열 후 max값 출력하기\n",
        "\n",
        "# lambda 함수를 활용하여 value값을 내림차순으로 배열하기\n",
        "# lambda x: x[1]는 (key, value) 튜플을 받아서 그 튜플의 두 번째 요소를 반환하고,\n",
        "# 이를 sorted 함수의 key 인수로 전달되어 튜플의 value를 기준으로 정렬.\n",
        "in_order_list = sorted(bigram_dict.items(), key=lambda x: x[1], reverse = True)\n",
        "print(f\"bigram 딕셔너리의 value값을 내림차순 한 결과(top 10)는 다음과 같습니다 : {in_order_list[:10]}\")\n",
        "\n",
        "# 제일 많이 나온 bigram 출력하기\n",
        "max_bigram_1 = in_order_list[0][0]\n",
        "print(f\"가장 많이 나온 bigram은: {max_bigram_1} 입니다.\")\n",
        "\n",
        "################# 바로 max값 뽑아내기\n",
        "\n",
        "# lambda 함수를 활용하여 딕셔너리에서 바로 max의 value값을 가지는 key값 출력하기\n",
        "max_bigram_2 = max(bigram_dict, key=lambda x: bigram_dict[x])\n",
        "# print(f\"가장 많이 나온 bigram은: {max_bigram_2} 입니다.\")"
      ]
    },
    {
      "cell_type": "markdown",
      "source": [
        "# 회고\n",
        "1. file을 불러오는 구문을 작성해 본 것은 처음이라 조금 헤맸었지만   \n",
        "google drive와 연동성이 좋아서 생각보다는 수월하게 진행한것 같다.\n",
        "2. 특수기호를 없애는 과정에서 처음에는 replace 구문을 일일이 만들었는데    \n",
        "ex.(```lowertext.replace(',',' ')\n",
        "   lowertext.replace('?',' ')```)     \n",
        "   검색해보니 연속하여 replace를 붙일 수 있다는 것을 알게되었고, 이를 통해  코드를 간소화할 수 있었다.\n",
        "3. 특수 기호 중 '\\\\'은 replace('\\\\')를 하니 \\가 excaping character이라\n",
        "   에러가 났다. '\\\\' 특수기호를 표현하려면 '\\\\\\\\'를 써주어야 한다는 것을 배웠다\n",
        "4. split하는 과정에서 ' '(한개의 띄워쓰기)를 사용했는데 이렇게 되면 여러개의 연속되는 띄어쓰기의 경우, 중복되는 띄어쓰기가 결과값으로 분할이 되어 나오는 버그가 발생하였다. chatGPT의 도움을 받은 결과, re모듈을 사용하여 ```re.split()```함수를 사용하고, ```r'\\s+'```(여러개의 띄어쓰기를 하나의 구분자로 설정)을 사용하는 구문을 알게되어 적용하였다.\n",
        "5. 딕셔너리를 만든 뒤, value값을 기준으로 max값을 뽑아야 하는데 방법을 모르곘어서 또 다시 chatGPT의 도움을 받았다...   \n",
        "그 똑똑한 친구가 lambda함수의 사용법을 알려주었고, 이를 통해 내림차순 하는 방법, max값을 봅아내는 방법을 배웠다.\n",
        "6. 코드를 짜는데 급급해서 시간 상 그렇게 헤멜 시간이 없다고 판단되어서 driver, navigator 역할을 따로 수행하지 못하였다 ㅜㅜ\n",
        "\n",
        "##최종\n",
        "내 힘으로 할 수 없는 부분을 서로 도와가면서 해결할 수 있어서 좋았으나\n",
        "여전히 모르는것이 많아서 똑똒한 친구(chatGPT)의 도움을 받을 수 밖에 없었다.\n",
        "그러나 오늘 배운 것은 다시 도움받을 일 없도록 내것으로 만들고야 말겠다."
      ],
      "metadata": {
        "id": "5FsT-DbsOeWo"
      }
    }
  ]
}