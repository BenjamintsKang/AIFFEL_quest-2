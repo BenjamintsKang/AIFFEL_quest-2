{
  "cells": [
    {
      "cell_type": "markdown",
      "metadata": {
        "id": "view-in-github",
        "colab_type": "text"
      },
      "source": [
        "<a href=\"https://colab.research.google.com/github/eueu29/AIFFEL_quest/blob/main/Python_quest/Main_quest/Main_1.ipynb\" target=\"_parent\"><img src=\"https://colab.research.google.com/assets/colab-badge.svg\" alt=\"Open In Colab\"/></a>"
      ]
    },
    {
      "cell_type": "code",
      "execution_count": null,
      "metadata": {
        "id": "9eGhkdo5VV4m"
      },
      "outputs": [],
      "source": [
        "import random\n",
        "\n",
        "class Account:\n",
        "    # class 변수로 count값 초기화\n",
        "    count = 0\n",
        "    # 생성자가 실행될때마다 count하기\n",
        "    def __init__(self,customer,balance):\n",
        "        self.bank = 'SC은행'\n",
        "        self.account_number = self.generate_bank_account()\n",
        "        self.customer = customer\n",
        "        self.balance = balance\n",
        "        Account.count += 1\n",
        "\n",
        "        print(f\"은행: {self.bank}, 예금주: {self.customer}, 계좌번호: {self.account_number}, 잔액: {self.format_currency(self.balance)}\")\n",
        "\n",
        "# random 모듈을 사용하여 3자리-2자리-6자리 계좌번호 생성하는 메서드\n",
        "    def generate_bank_account(self):\n",
        "        part1 = random.randint(0,999)\n",
        "        part2 = random.randint(0,99)\n",
        "        part3 = random.randint(0,999999)\n",
        "        account_number = f\"{part1:03d}-{part2:02d}-{part3:06d}\"\n",
        "        return account_number\n",
        "\n",
        "    @classmethod\n",
        "    def get_account_num(cls):\n",
        "        print(f\"{cls.count}명의 계좌가 생성되었습니다\")\n",
        "\n",
        "    def format_currency(self, amount):\n",
        "        return f\"{amount:,.0f}원\"\n",
        "\n",
        "    def deposit(self,d_amount):\n",
        "        self.d_amount = d_amount\n",
        "        # 입금액이 1원 이상일때만 실행\n",
        "        if d_amount > 0 :\n",
        "            self.balance += d_amount\n",
        "            print(f\"{self.customer}({self.account_number}) | 입금 : {self.format_currency(d_amount)}, 잔액 : {self.format_currency(self.balance)}\")\n",
        "        else:\n",
        "            print(\"1원 이상만 입금이 가능합니다\")\n",
        "\n",
        "    def withdraw(self,w_amount):\n",
        "        self.w_amount = w_amount\n",
        "        # 출금액이 계좌 잔액 이하일때만 실행\n",
        "        if w_amount <= self.balance:\n",
        "            self.balance -= w_amount\n",
        "            print(f\"{self.customer}({self.account_number}) | 출금 : {self.format_currency(w_amount)}, 잔액 : {self.format_currency(self.balance)}\")\n",
        "        else:\n",
        "            print(f\"[ERROR] 계좌의 잔액이 부족합니다. 인출할 수 있는 금액은 {self.format_currency(self.balance)} 입니다\")\n",
        "\n"
      ]
    },
    {
      "cell_type": "code",
      "execution_count": null,
      "metadata": {
        "id": "fRD7hM-4VV4p",
        "outputId": "1c245008-7fbb-4c9f-c8a7-1d4249de6aaa"
      },
      "outputs": [
        {
          "name": "stdout",
          "output_type": "stream",
          "text": [
            "은행: SC은행, 예금주: LYJ, 계좌번호: 695-98-763937, 잔액: 1,000,000원\n",
            "은행: SC은행, 예금주: LYN, 계좌번호: 271-13-570402, 잔액: 2,000,000원\n",
            "2명의 계좌가 생성되었습니다\n"
          ]
        }
      ],
      "source": [
        "a = Account('LYJ',1000000)\n",
        "b = Account('LYN',2000000)\n",
        "Account.get_account_num()\n"
      ]
    },
    {
      "cell_type": "code",
      "execution_count": null,
      "metadata": {
        "id": "urJV_HPmVV4q",
        "outputId": "b0f039c6-a005-49e6-db87-579ed8ab3bf7"
      },
      "outputs": [
        {
          "name": "stdout",
          "output_type": "stream",
          "text": [
            "LYJ(695-98-763937) | 입금 : 100,000원, 잔액 : 1,100,000원\n",
            "LYN(271-13-570402) | 출금 : 500,000원, 잔액 : 1,500,000원\n"
          ]
        }
      ],
      "source": [
        "a.deposit(100000)\n",
        "b.withdraw(500000)"
      ]
    },
    {
      "cell_type": "code",
      "execution_count": null,
      "metadata": {
        "id": "d7_h3sDLVV4q",
        "outputId": "c7c6a279-408a-4149-eb2a-54235366fe40"
      },
      "outputs": [
        {
          "name": "stdout",
          "output_type": "stream",
          "text": [
            "LYJ(695-98-763937) | 출금 : 1,100,000원, 잔액 : 0원\n"
          ]
        }
      ],
      "source": [
        "a.withdraw(1100000)"
      ]
    },
    {
      "cell_type": "code",
      "execution_count": null,
      "metadata": {
        "id": "XmpvbXNbVV4r",
        "outputId": "78f0dd01-9b8c-433d-bc92-9bfa071a9d05"
      },
      "outputs": [
        {
          "name": "stdout",
          "output_type": "stream",
          "text": [
            "[ERROR] 계좌의 잔액이 부족합니다. 인출할 수 있는 금액은 1,500,000원 입니다\n"
          ]
        }
      ],
      "source": [
        "b.withdraw(2000000)"
      ]
    },
    {
      "cell_type": "code",
      "execution_count": null,
      "metadata": {
        "id": "8zau5hMKVV4r",
        "outputId": "768b9afc-a4df-4c4f-e96f-eba2a2e3470b"
      },
      "outputs": [
        {
          "name": "stdout",
          "output_type": "stream",
          "text": [
            "LYN(271-13-570402) | 출금 : 1,500,000원, 잔액 : 0원\n"
          ]
        }
      ],
      "source": [
        "b.withdraw(1500000)"
      ]
    }
  ],
  "metadata": {
    "kernelspec": {
      "display_name": "Python 3",
      "language": "python",
      "name": "python3"
    },
    "language_info": {
      "codemirror_mode": {
        "name": "ipython",
        "version": 3
      },
      "file_extension": ".py",
      "mimetype": "text/x-python",
      "name": "python",
      "nbconvert_exporter": "python",
      "pygments_lexer": "ipython3",
      "version": "3.12.3"
    },
    "colab": {
      "provenance": [],
      "include_colab_link": true
    }
  },
  "nbformat": 4,
  "nbformat_minor": 0
}