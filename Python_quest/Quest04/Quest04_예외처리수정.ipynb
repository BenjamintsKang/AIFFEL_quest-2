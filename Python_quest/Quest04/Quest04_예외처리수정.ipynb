{
  "nbformat": 4,
  "nbformat_minor": 0,
  "metadata": {
    "colab": {
      "provenance": [],
      "include_colab_link": true
    },
    "kernelspec": {
      "name": "python3",
      "display_name": "Python 3"
    },
    "language_info": {
      "name": "python"
    }
  },
  "cells": [
    {
      "cell_type": "markdown",
      "metadata": {
        "id": "view-in-github",
        "colab_type": "text"
      },
      "source": [
        "<a href=\"https://colab.research.google.com/github/eueu29/AIFFEL_quest/blob/main/Python_quest/Quest04/Quest04_%EC%98%88%EC%99%B8%EC%B2%98%EB%A6%AC%EC%88%98%EC%A0%95.ipynb\" target=\"_parent\"><img src=\"https://colab.research.google.com/assets/colab-badge.svg\" alt=\"Open In Colab\"/></a>"
      ]
    },
    {
      "cell_type": "code",
      "execution_count": 6,
      "metadata": {
        "id": "Elc60dDtLQX4",
        "colab": {
          "base_uri": "https://localhost:8080/"
        },
        "outputId": "58bfc6df-b3f3-4704-9cb7-29df5a50ccb3"
      },
      "outputs": [
        {
          "output_type": "stream",
          "name": "stdout",
          "text": [
            "계산 하시겠습니까? (y/n): ㅛ\n",
            "잘못된 입력입니다.\n",
            "계산 하시겠습니까? (y/n): Y\n",
            "첫번째 정수를 입력하세요: 1\n",
            "+, -, *, /, ** 중 어떤 연산을 시행할까요? +\n",
            "두번째 정수를 입력하세요: -1\n",
            "연산결과:  0 \n",
            "\n",
            "계산 하시겠습니까? (y/n): y\n",
            "첫번째 정수를 입력하세요: 4\n",
            "+, -, *, /, ** 중 어떤 연산을 시행할까요? -\n",
            "두번째 정수를 입력하세요: 5\n",
            "연산결과:  -1 \n",
            "\n",
            "계산 하시겠습니까? (y/n): y\n",
            "첫번째 정수를 입력하세요: 4\n",
            "+, -, *, /, ** 중 어떤 연산을 시행할까요? *\n",
            "두번째 정수를 입력하세요: 2\n",
            "연산결과:  8 \n",
            "\n",
            "계산 하시겠습니까? (y/n): y\n",
            "첫번째 정수를 입력하세요: 4\n",
            "+, -, *, /, ** 중 어떤 연산을 시행할까요? /\n",
            "두번째 정수를 입력하세요: 2\n",
            "연산결과:  2.0 \n",
            "\n",
            "계산 하시겠습니까? (y/n): y\n",
            "첫번째 정수를 입력하세요: 4\n",
            "+, -, *, /, ** 중 어떤 연산을 시행할까요? /\n",
            "두번째 정수를 입력하세요: 0\n",
            "에러발생 : 0으로 나눌 수 없습니다.\n",
            "연산결과:  None \n",
            "\n",
            "계산 하시겠습니까? (y/n): y\n",
            "첫번째 정수를 입력하세요: 3\n",
            "+, -, *, /, ** 중 어떤 연산을 시행할까요? **\n",
            "두번째 정수를 입력하세요: 2\n",
            "연산결과:  9 \n",
            "\n",
            "계산 하시겠습니까? (y/n): n\n",
            "계산을 종료합니다.\n"
          ]
        }
      ],
      "source": [
        "# 두개의 정수와 연산자(+ - * / **(math모듈로))를 입력받아 계산 결과를 출력하는 프로그램\n",
        "\n",
        "# math 모듈 호출 (math.pow 제곱 계산)\n",
        "import math\n",
        "\n",
        "## try-except 구문을 사용해보려고 했으나 결과가 제대로 나오지 않았다.\n",
        "## GPT에 문의 : try-except를 사용하려면 ValueError이 발생하여야 하는데 isdigit() 함수는 ValueError을 일으키지 않기에 사용하기 적절하지 않다\n",
        "# try:\n",
        "#     int_1 = input(\"첫 번째 정수를 입력해주세요.\")\n",
        "#     int_1.lstrip('-').isdigit()\n",
        "# except ValueError(\"잘못된 입력입니다. 정수를 입력해주세요\"):\n",
        "#     int_1 = input(\"첫 번째 정수를 다시 입력해주세요.\")\n",
        "\n",
        "\n",
        "# 사용자로부터 1, 2번째 정수 입력받는 함수\n",
        "def int_input(q):\n",
        "    while True:\n",
        "        num = input(q)\n",
        "        if num.lstrip('-').isdigit():         # 정수판별 - lstrip으로 음수가 있다면 제거, isdigit()함수를 사용해서 정수인지 판별 합니다.\n",
        "            return int(num)                 # 정수가 입력될때까지 \"잘못된 입력입니다. 정수를 입력해주세요.\"를 출력하며 다시 입력받기를 시도합니다\n",
        "        else:\n",
        "            print(\"잘못된 입력입니다. 정수를 입력해주세요.\")\n",
        "\n",
        "# 사용자로부터 연산자 입력받는 함수\n",
        "def operator_input(e):\n",
        "    while True:\n",
        "        operator_list = ['+', '-' , '*', '/', '**']\n",
        "        operator = input(e)\n",
        "        if operator in operator_list:       # list에 있는 연산자가 아니라면 다시 호출받습니다.\n",
        "            return operator\n",
        "        else:\n",
        "            print(\"지원되지 않는 연산자 입니다. 다시 입력해주세요.\")    # 사용자가 지원하지 않는 연산자를 입력한 경우 적절한 오류메세지를 출력합니다.\n",
        "\n",
        "# 정수 2개와 연산자를 입력받고, 계산하는 함수\n",
        "def calc():\n",
        "    num1 = int_input(\"첫번째 정수를 입력하세요: \")\n",
        "    oper = operator_input(\"+, -, *, /, ** 중 어떤 연산을 시행할까요? \")\n",
        "    num2 = int_input(\"두번째 정수를 입력하세요: \")\n",
        "\n",
        "    # if문을 통해 실제 연산\n",
        "    if oper == \"+\":\n",
        "        return num1 + num2\n",
        "    elif oper == \"-\":\n",
        "        return num1 - num2\n",
        "    elif oper == \"*\":\n",
        "        return num1 * num2\n",
        "    elif oper == \"/\" :\n",
        "        try:\n",
        "            return num1 / num2\n",
        "        except ZeroDivisionError:\n",
        "            print(\"에러발생 : 0으로 나눌 수 없습니다.\")  # 나눗셈 연산 시 두번째 정수가 0인 경우 ZeroDivisionError을 처리하여 적절한 오류메세지를 출력\n",
        "            pass                              # 에러가 발생하여도 프로그램이 강제종료되지 않도록 try-except 예외처리함\n",
        "    elif oper == \"**\":\n",
        "        return int(math.pow(num1, num2))  # math 모듈을 사용하여 제곱\n",
        "\n",
        "# 계산기를 통해 계속 계산을 할 것인지 입력받습니다.\n",
        "while True:\n",
        "    a = input(\"계산 하시겠습니까? (y/n): \").lower()     # 대문자로 입력하였을 때도 인식하도록 lower()추가함\n",
        "    if a == 'y':\n",
        "        print(\"연산결과: \", calc(),\"\\n\")   # 가독성을 위해 결과 출력 후 한 줄 띄어쓰기 시행함\n",
        "    elif a == 'n':\n",
        "        print(\"계산을 종료합니다.\")\n",
        "        break\n",
        "    else:\n",
        "        print(\"잘못된 입력입니다.\")"
      ]
    },
    {
      "cell_type": "markdown",
      "source": [
        "# 회고 : 이유진\n",
        "1. try-except 구문을 써보려 이런 저런 시도들을 해보았지만 결국 익숙한 if-else 구문으로 오류를 처리하게 되었다. try-except 구문을 어떻게 사용할지 아직 완벽히 익히지 못한것 같아 더 공부할 필요성을 느꼈다.\n",
        "2. 에러에 대한 메세지를 출력한다는 부분에서 꼭 에러를 일으켜야 하는지에 대한 의문이 생겼다(에러가 발생하면 프로그램을 이어서 진행시킬 수 없으므로). 정은 퍼실님께 다시 문의하였고 에러가 발생하지 않게 처리하고 에러메세지만 남기면 된다고 하셔서 해결된 바 있었다.\n",
        "3. 특정 기능을 수행하는 부분들을 함수로 묶어서 최대한 깔끔한 코딩을 하려고 노력했으나 더 최선이 있을것 같은 느낌이 들어서 더 고민해보아야 겠다.</br>\n",
        "-------------------------- 예외처리 수정 후 추가회고 ---------------------------------</br>\n",
        " 4. 기존에는 0으로 나누었을때 ZeroDivisionError가 발생하며 프로그램이 종료되었었는데, 예외처리가 에러 자체가 발생하지 않도록(프로그램이 에러로 인해서 강제 종료되지 않도록) 처리하는 것인데 그 부분이 미흡했던 것 같다. 그래서 에러처리륻 다시 해주어 에러가 발생하여도 프로그램이 강제종료되는 일이 없도록 수정하였다.\n",
        "\n",
        "# 회고 : 김기홍\n",
        "\n",
        "1. 에러가 어디서 나는지 모를 때, 적절한 comment를 주셔서 에러를 잘 잡았고, 처음 에러를 발생시키는 것과 다시 실행을 시켜야 하는 부분에 혼동이 있었다. 결국 프로그램이 잘 돌아가는 거시 중요하기에 다시 실행시키는 부분을 중점으로 두었습니다.\n",
        "2. 걸어가지 않은 길: try except를 시도하다가, 계속 에러가나서 결국엔 다시 실행되지 않아서 try except를 사용하지 못했습니다. 결국 try except를 잘 모르기때문에 더 친근한 if문을 사용하게 된 것 같아 아쉽지만, 다음에는 더 try except와 친해져봐야겠습니다.\n",
        "3. 결국엔 함수로 코드를 제작할 수 있어서 좋았고, 저는 list에 넣을 생각을 못했었는데, 유진님이 list에 넣어서 있는것만 확인하자는 시도가 좋게 작용했다고 생각합니다.\n",
        "4. 페어 프로그래밍이 의견을 맞추거나 조율하는것이 쉽지 않지만 다른 사람의 의견을 반영하는 부분이 생각외로 즐겁고, 도움이 많이 된다는 것을 매번 느끼게 됩니다."
      ],
      "metadata": {
        "id": "NuRLZ8HiilB-"
      }
    }
  ]
}