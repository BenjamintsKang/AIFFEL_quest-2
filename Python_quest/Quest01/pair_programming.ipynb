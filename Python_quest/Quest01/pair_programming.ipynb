{
  "nbformat": 4,
  "nbformat_minor": 0,
  "metadata": {
    "colab": {
      "provenance": [],
      "include_colab_link": true
    },
    "kernelspec": {
      "name": "python3",
      "display_name": "Python 3"
    },
    "language_info": {
      "name": "python"
    }
  },
  "cells": [
    {
      "cell_type": "markdown",
      "metadata": {
        "id": "view-in-github",
        "colab_type": "text"
      },
      "source": [
        "<a href=\"https://colab.research.google.com/github/eueu29/AIFFEL_quest/blob/main/Python_quest/Quest01/pair_programming.ipynb\" target=\"_parent\"><img src=\"https://colab.research.google.com/assets/colab-badge.svg\" alt=\"Open In Colab\"/></a>"
      ]
    },
    {
      "cell_type": "code",
      "execution_count": 9,
      "metadata": {
        "colab": {
          "base_uri": "https://localhost:8080/"
        },
        "id": "m4do31QzHWMm",
        "outputId": "648b9361-be31-46a7-b400-e32eaa953a32"
      },
      "outputs": [
        {
          "output_type": "stream",
          "name": "stdout",
          "text": [
            "단어를 입력해주세요: 바니니바\n",
            "뒤집힌 단어는:  바니니바\n",
            "입력된 단어는 회문입니다.\n"
          ]
        }
      ],
      "source": [
        "# @title\n",
        "### Python_Quest_01\n",
        "\n",
        "word = input(\"단어를 입력해주세요: \")\n",
        "\n",
        "def reversible_word(word):\n",
        "  reversed_word = \"\"\n",
        "\n",
        "  for i in range(len(word)):\n",
        "      reversed_word += word[-i-1]\n",
        "\n",
        "  print(\"뒤집힌 단어는: \", reversed_word)\n",
        "\n",
        "  if reversed_word == word:\n",
        "      print(\"입력된 단어는 회문입니다.\")\n",
        "  else:\n",
        "      print(\"입력된 단어는 회문이 아닙니다.\")\n",
        "\n",
        "reversible_word(word)\n",
        "\n",
        "# 회고\n",
        "# 1. range 함수와 for문을 통해 reversed_word를 만드는 과정에서, word[-i]로 설정을 하니 단어가 제대로 출력이 되지 않았습니다.\n",
        "#    확인해보니 range 함수의 시작이 0 부터라는 사실을 꺠닫고 word[-i-1]로 수정하였습니다.\n",
        "# 2. if 문과 else 문에서 코드의 길이를 줄이기 위해서 공통된 부분을 따로 빼서 간결하게 수정하였습니다."
      ]
    }
  ]
}